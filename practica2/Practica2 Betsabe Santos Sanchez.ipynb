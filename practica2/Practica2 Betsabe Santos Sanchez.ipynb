{
 "cells": [
  {
   "cell_type": "markdown",
   "metadata": {},
   "source": [
    "**Betsabe Santos Sànchez\n",
    "Pràctica 2\n",
    "Funciones listas y tuplas**"
   ]
  },
  {
   "cell_type": "markdown",
   "metadata": {},
   "source": [
    "***Funciones***\n",
    "\n",
    "\n",
    "Son secuencias de sentencia que ejecutan una operación deseada y así se pueden ejecutar varias operaciones\n",
    "\n",
    "La función es lo primero que se define, si esta no se define no se ejecutará nada pero no sólo se deberá definir, a la función se le deben asignar parámetros y orden a los mismos sobre los cuales se trabajará.\n",
    "\n",
    "Se utiliza la palabra def seguida de la funcion a definir.\n",
    "\n",
    "Función: se le denomina a la secuencia de sentencias que ejecutan operaciones y tienen un nombre. Llamada de función: contienen el nombre de la función a ejecutar seguida por la lista de valores, para que la función se ejecute es necesario una llamada de función\n",
    "\n",
    "El ámbito de una variable global son todas las funciones que componen el programa. El ámbito de una variable local se restringe a la función que han sido declaradas.\n",
    "\n",
    "Cualquier otra función del programa puede conocer el valor de la variable pues la función original debe transferir el valor de la función.\n",
    "\n",
    "Es un valor que se utiliza para forzar una salida inmediata de la función en que se encuentra y también devuelve un valor. No puede ser parte de una expresión pues para que funcione el valor, éste debe ir seguida de una expresión que posteriormente será evaluada.\n",
    "\n",
    "Si lo omitimos por defecto devuelve un entero.\n",
    "\n",
    "Se debe anteponer la palabra externa a su declaración.\n",
    "\n",
    "Sirve para inicializar una variable, que previamentea sido declarada si no sabemos antes qué tipo de dato va a contener o en dónde ningún valor es válido. NoneType\n",
    "\n",
    "Importa una serie de funciones relacionadas con los valores aleatorios.\n",
    "\n",
    "La función randint() devolverá un entero aleatorio en el intervalo comprendido entre los dos argumentos enteros. El entero aleatorio devuelto por randint() es almacenado en una variable llamada número."
   ]
  },
  {
   "cell_type": "markdown",
   "metadata": {},
   "source": [
    "***Listas y tuplas***\n",
    "\n",
    "Los corchetes se usan para acceder y modificar los elementos de una lista.\n",
    "\n",
    "nombre de la lista.insert(posicion, 'elemento a incluir')\n",
    "\n",
    "el numero tres lo multplica por dos lo divide entre once y arroja un numero entro de la lista\n",
    "\n",
    "Imprimir el ultimo valor de la lista\n",
    "\n",
    "Imprime en un rango desde el cero hasta el dos\n",
    "\n",
    "Te da la posicion del valor en  la lista\n",
    "\n",
    "Agrega un valor a la lista\n",
    "\n",
    "Elimina el elemento de la lista\n",
    "\n",
    "Podemos concatenar usando el operador de adición o a través del método extend ().Para la replicación se usa el comando copy() para hacer listas superficiales.\n",
    "\n",
    "Append()Agrega un ítem al final de la lista. Insert()Inserta un ítem en una posición dada. El primer argumento es el índice del ítem delante del cual se insertará\n",
    "\n",
    "Una lista puede ser alterada, no así una tupla. Una tupla puede ser utilizada como clave en un diccionario, no así una lista. Una tupla consume menos espacio que una lista"
   ]
  },
  {
   "cell_type": "markdown",
   "metadata": {},
   "source": [
    "***Proyecto practico***                         "
   ]
  },
  {
   "cell_type": "code",
   "execution_count": null,
   "metadata": {},
   "outputs": [],
   "source": [
    "print(\"Determinar si el numero ingresado es primo\")\n",
    "\n",
    "m = int(2)\n",
    "band = \"V\"\n",
    "\n",
    "n = int(input(\"Ingresar algun numero:\"))\n",
    "while((band == \"V\") and (m < n)):\n",
    "        if((n % m) == 0):\n",
    "                band = \"F\"\n",
    "        else:\n",
    "                m = m + 1\n",
    "if(band == \"V\"):\n",
    "        print(\"El numero ingresado es primo\")\n",
    "else:\n",
    "        print(\"El numero ingresado no es primo\")"
   ]
  },
  {
   "cell_type": "code",
   "execution_count": null,
   "metadata": {},
   "outputs": [],
   "source": [
    "print(\"Genere los numeros primos menores o iguales a n que pertenece a los naturales\")\n",
    "\n",
    "m = int(2)\n",
    "band = \"V\"\n",
    "\n",
    "n = int(input(\"Ingresar algun numero entero positivo: \"))\n",
    "while((band == \"V\") and (m < n)):\n",
    "        if((n % m) == 0):\n",
    "                band = \"F\"\n",
    "        else:\n",
    "                m = m + 1\n",
    "if(band == \"V\"):\n",
    "        print(\"El numero ingresado es primo\")\n",
    "else:\n",
    "        print(\"El numero ingresado no es primo\")\n",
    "if n > 0:\n",
    "        for i in range(2,n) :\n",
    "                creciente = 2\n",
    "                esprimo = True\n",
    "                while esprimo and creciente < i:\n",
    "                        if i % creciente == 0:\n",
    "                                esprimo = False\n",
    "                        else:\n",
    "                                creciente += 1\n",
    "                if esprimo:\n",
    "                        print(i,\"es un numero primo\")\n",
    "else:\n",
    "        print(\"El numero ingresado no es primo\")\n"
   ]
  },
  {
   "cell_type": "code",
   "execution_count": null,
   "metadata": {},
   "outputs": [],
   "source": []
  },
  {
   "cell_type": "code",
   "execution_count": null,
   "metadata": {},
   "outputs": [],
   "source": []
  },
  {
   "cell_type": "code",
   "execution_count": null,
   "metadata": {},
   "outputs": [],
   "source": [
    "print(\"Minimo comun multiplo de dos enteros\")\n",
    "\n",
    "def MCM(x, y):\n",
    "\n",
    "\n",
    "\n",
    "        if x > y:\n",
    "                mayor = x\n",
    "        else:\n",
    "                mayor = y\n",
    "\n",
    "        while(True):\n",
    "                if((mayor % x == 0) and (mayor % y == 0)):\n",
    "                        MCM = mayor\n",
    "                        break\n",
    "\n",
    "                mayor += 1\n",
    "\n",
    "        return MCM\n",
    "\n",
    "numero1 = int(input(\"Ingresar el primer numero: \"))\n",
    "numero2 = int(input(\"Ingresar el segundo numero: \"))"
   ]
  },
  {
   "cell_type": "code",
   "execution_count": null,
   "metadata": {},
   "outputs": [],
   "source": [
    "print(Maximo comun divisor de dos enteros\")\n",
    "\n",
    "def MCD(a, b):\n",
    "        resto = 0\n",
    "        while(b > 0):\n",
    "                resto = b\n",
    "                b = a % b\n",
    "                a = resto\n",
    "        return a\n",
    "\n",
    "numero1 = int(input(\"Ingrese el primer numero entero: \"))\n",
    "numero2 = int(input(\"Ingrese el segundo numero entero: \"))\n",
    "\n",
    "print(\"El maximo comun divisor de \", numero1,\" y \", numero2, \" es \", MCD(numero1, numero2))"
   ]
  },
  {
   "cell_type": "code",
   "execution_count": null,
   "metadata": {},
   "outputs": [],
   "source": []
  }
 ],
 "metadata": {
  "kernelspec": {
   "display_name": "Python 3",
   "language": "python",
   "name": "python3"
  },
  "language_info": {
   "codemirror_mode": {
    "name": "ipython",
    "version": 3
   },
   "file_extension": ".py",
   "mimetype": "text/x-python",
   "name": "python",
   "nbconvert_exporter": "python",
   "pygments_lexer": "ipython3",
   "version": "3.6.7"
  }
 },
 "nbformat": 4,
 "nbformat_minor": 2
}
