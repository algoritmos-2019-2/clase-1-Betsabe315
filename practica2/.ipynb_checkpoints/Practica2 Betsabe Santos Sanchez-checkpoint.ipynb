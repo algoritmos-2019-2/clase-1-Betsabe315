{
 "cells": [
  {
   "cell_type": "code",
   "execution_count": 1,
   "metadata": {},
   "outputs": [
    {
     "name": "stdout",
     "output_type": "stream",
     "text": [
      "Betsabe Santos Sànchez\n",
      "Pràctica 2\n",
      "Funciones listas y tuplas\n"
     ]
    }
   ],
   "source": [
    "print(\"Betsabe Santos Sànchez\")\n",
    "print(\"Pràctica 2\")\n",
    "print(\"Funciones listas y tuplas\")"
   ]
  },
  {
   "cell_type": "code",
   "execution_count": 2,
   "metadata": {},
   "outputs": [
    {
     "name": "stdout",
     "output_type": "stream",
     "text": [
      "Funciones\n"
     ]
    }
   ],
   "source": [
    "print(\"Funciones\")"
   ]
  },
  {
   "cell_type": "code",
   "execution_count": 3,
   "metadata": {},
   "outputs": [
    {
     "name": "stdout",
     "output_type": "stream",
     "text": [
      "Listas y tuplas\n"
     ]
    }
   ],
   "source": [
    "print(\"Listas y tuplas\")"
   ]
  },
  {
   "cell_type": "code",
   "execution_count": null,
   "metadata": {},
   "outputs": [
    {
     "name": "stdout",
     "output_type": "stream",
     "text": [
      "Proyecto practico\n",
      "Verificar si un numero es primo\n",
      "Determinar si el numero ingresado es primo\n"
     ]
    }
   ],
   "source": [
    "print(\"Proyecto practico\")                            "
   ]
  },
  {
   "cell_type": "code",
   "execution_count": null,
   "metadata": {},
   "outputs": [],
   "source": [
    "print(\"Determinar si el numero ingresado es primo\")\n",
    "\n",
    "m = int(2)\n",
    "band = \"V\"\n",
    "\n",
    "n = int(input(\"Ingresar algun numero:\"))\n",
    "while((band == \"V\") and (m < n)):\n",
    "        if((n % m) == 0):\n",
    "                band = \"F\"\n",
    "        else:\n",
    "                m = m + 1\n",
    "if(band == \"V\"):\n",
    "        print(\"El numero ingresado es primo\")\n",
    "else:\n",
    "        print(\"El numero ingresado no es primo\")"
   ]
  },
  {
   "cell_type": "code",
   "execution_count": null,
   "metadata": {},
   "outputs": [],
   "source": [
    "print(\"Genere los numeros primos menores o iguales a n que pertenece a los naturales\")\n",
    "\n",
    "m = int(2)\n",
    "band = \"V\"\n",
    "\n",
    "n = int(input(\"Ingresar algun numero entero positivo: \"))\n",
    "while((band == \"V\") and (m < n)):\n",
    "        if((n % m) == 0):\n",
    "                band = \"F\"\n",
    "        else:\n",
    "                m = m + 1\n",
    "if(band == \"V\"):\n",
    "        print(\"El numero ingresado es primo\")\n",
    "else:\n",
    "        print(\"El numero ingresado no es primo\")\n",
    "if n > 0:\n",
    "        for i in range(2,n) :\n",
    "                creciente = 2\n",
    "                esprimo = True\n",
    "                while esprimo and creciente < i:\n",
    "                        if i % creciente == 0:\n",
    "                                esprimo = False\n",
    "                        else:\n",
    "                                creciente += 1\n",
    "                if esprimo:\n",
    "                        print(i,\"es un numero primo\")\n",
    "else:\n",
    "        print(\"El numero ingresado no es primo\")\n"
   ]
  },
  {
   "cell_type": "code",
   "execution_count": null,
   "metadata": {},
   "outputs": [],
   "source": []
  },
  {
   "cell_type": "code",
   "execution_count": null,
   "metadata": {},
   "outputs": [],
   "source": []
  },
  {
   "cell_type": "code",
   "execution_count": null,
   "metadata": {},
   "outputs": [],
   "source": [
    "print(\"Minimo comun multiplo de dos enteros\")\n",
    "\n",
    "def MCM(x, y):\n",
    "\n",
    "\n",
    "\n",
    "        if x > y:\n",
    "                mayor = x\n",
    "        else:\n",
    "                mayor = y\n",
    "\n",
    "        while(True):\n",
    "                if((mayor % x == 0) and (mayor % y == 0)):\n",
    "                        MCM = mayor\n",
    "                        break\n",
    "\n",
    "                mayor += 1\n",
    "\n",
    "        return MCM\n",
    "\n",
    "numero1 = int(input(\"Ingresar el primer numero: \"))\n",
    "numero2 = int(input(\"Ingresar el segundo numero: \"))"
   ]
  },
  {
   "cell_type": "code",
   "execution_count": null,
   "metadata": {},
   "outputs": [],
   "source": [
    "print(Maximo comun divisor de dos enteros\")\n",
    "\n",
    "def MCD(a, b):\n",
    "        resto = 0\n",
    "        while(b > 0):\n",
    "                resto = b\n",
    "                b = a % b\n",
    "                a = resto\n",
    "        return a\n",
    "\n",
    "numero1 = int(input(\"Ingrese el primer numero entero: \"))\n",
    "numero2 = int(input(\"Ingrese el segundo numero entero: \"))\n",
    "\n",
    "print(\"El maximo comun divisor de \", numero1,\" y \", numero2, \" es \", MCD(numero1, numero2))"
   ]
  },
  {
   "cell_type": "code",
   "execution_count": null,
   "metadata": {},
   "outputs": [],
   "source": []
  }
 ],
 "metadata": {
  "kernelspec": {
   "display_name": "Python 3",
   "language": "python",
   "name": "python3"
  },
  "language_info": {
   "codemirror_mode": {
    "name": "ipython",
    "version": 3
   },
   "file_extension": ".py",
   "mimetype": "text/x-python",
   "name": "python",
   "nbconvert_exporter": "python",
   "pygments_lexer": "ipython3",
   "version": "3.6.7"
  }
 },
 "nbformat": 4,
 "nbformat_minor": 2
}
